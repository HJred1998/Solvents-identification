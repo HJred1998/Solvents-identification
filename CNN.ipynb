version https://git-lfs.github.com/spec/v1
oid sha256:fe48cb5325923f9bdba4ab2d0c234c82bcbfc09f52592ad14aeeb9fb1aac7150
size 7432
